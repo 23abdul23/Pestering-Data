{
 "cells": [
  {
   "cell_type": "markdown",
   "id": "4f4d7504-73e2-44ca-8af0-c1e04c942d3c",
   "metadata": {},
   "source": [
    "## Jupyter Notebook\n"
   ]
  },
  {
   "cell_type": "code",
   "execution_count": 3,
   "id": "0f432151-203d-4cf6-9539-f17ae69d4193",
   "metadata": {},
   "outputs": [
    {
     "name": "stdout",
     "output_type": "stream",
     "text": [
      "Name:Ishita\n"
     ]
    }
   ],
   "source": [
    "print(\"Name:Ishita\")"
   ]
  },
  {
   "cell_type": "code",
   "execution_count": 4,
   "id": "812c961b-18c7-419f-a7df-aca2383d7268",
   "metadata": {},
   "outputs": [
    {
     "name": "stdout",
     "output_type": "stream",
     "text": [
      "Enrollment Number: IIT2023132\n"
     ]
    }
   ],
   "source": [
    "print(\"Enrollment Number: IIT2023132\")"
   ]
  },
  {
   "cell_type": "code",
   "execution_count": null,
   "id": "80d9256c-4545-4f0e-b0e3-a3cc6fd72bb7",
   "metadata": {},
   "outputs": [],
   "source": []
  }
 ],
 "metadata": {
  "kernelspec": {
   "display_name": "Python 3 (ipykernel)",
   "language": "python",
   "name": "python3"
  },
  "language_info": {
   "codemirror_mode": {
    "name": "ipython",
    "version": 3
   },
   "file_extension": ".py",
   "mimetype": "text/x-python",
   "name": "python",
   "nbconvert_exporter": "python",
   "pygments_lexer": "ipython3",
   "version": "3.11.7"
  }
 },
 "nbformat": 4,
 "nbformat_minor": 5
}
