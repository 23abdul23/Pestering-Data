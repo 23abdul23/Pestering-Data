{
 "cells": [
  {
   "cell_type": "markdown",
   "id": "c1378c1f-0fcc-4f06-8c7e-6dda3f0bae1e",
   "metadata": {},
   "source": [
    "Run all the cells and make changes to only the allowed cells. Do not change the code in the restricted region"
   ]
  },
  {
   "cell_type": "code",
   "execution_count": null,
   "id": "ef0d9475-fd78-4413-a5d6-b513190263aa",
   "metadata": {},
   "outputs": [],
   "source": [
    "from tensorflow.keras.preprocessing.image import ImageDataGenerator\n",
    "import os"
   ]
  },
  {
   "cell_type": "code",
   "execution_count": null,
   "id": "14bcc840-e286-4e6c-ac4e-87c52e23c1c3",
   "metadata": {},
   "outputs": [],
   "source": [
    "dataset_path = \"/path/to/your/dataset\"\n",
    "\n",
    "train_dir = os.path.join(dataset_path, 'train_set')\n",
    "test_dir = os.path.join(dataset_path, 'test_set')\n",
    "\n",
    "# Change this code"
   ]
  },
  {
   "cell_type": "code",
   "execution_count": null,
   "id": "6de7f29e-13df-4dc8-a474-be3a2213a43f",
   "metadata": {},
   "outputs": [],
   "source": [
    "train_data = ImageDataGenerator(rescale=1.0/255) \n",
    "test_data = ImageDataGenerator(rescale=1.0/255)\n",
    "\n",
    "\n",
    "train_generator = train_data.flow_from_directory(\n",
    "    train_dir,\n",
    "    target_size=(224,224),\n",
    "    batch_size=32,\n",
    "    class_mode='categorical'    \n",
    ")\n",
    "\n",
    "test_generator = test_data.flow_from_directory(\n",
    "    test_dir,\n",
    "    target_size=(224, 224),\n",
    "    batch_size=32,\n",
    "    class_mode='categorical'\n",
    ")\n",
    "\n",
    "print(\"Classes found in the dataset:\", train_generator.class_indices)\n",
    "\n",
    "# Do not change this code"
   ]
  },
  {
   "cell_type": "code",
   "execution_count": null,
   "id": "3cce3d79-61f4-4b18-a781-3da2e7d88556",
   "metadata": {},
   "outputs": [],
   "source": [
    "# Write the code to display one image of all the 22 classes.\n",
    "\n"
   ]
  },
  {
   "cell_type": "markdown",
   "id": "5f9f2819-2a35-419f-8a37-466550794939",
   "metadata": {},
   "source": [
    "Run all the cells and the output must be clearly visible for all the cells."
   ]
  },
  {
   "cell_type": "code",
   "execution_count": null,
   "id": "013d837d-44a1-44f8-89d8-2dd8c728d5ed",
   "metadata": {},
   "outputs": [],
   "source": []
  }
 ],
 "metadata": {
  "kernelspec": {
   "display_name": "tf-gpu",
   "language": "python",
   "name": "python3"
  },
  "language_info": {
   "codemirror_mode": {
    "name": "ipython",
    "version": 3
   },
   "file_extension": ".py",
   "mimetype": "text/x-python",
   "name": "python",
   "nbconvert_exporter": "python",
   "pygments_lexer": "ipython3",
   "version": "3.9.18"
  }
 },
 "nbformat": 4,
 "nbformat_minor": 5
}
