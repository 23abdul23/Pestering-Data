{
 "cells": [
  {
   "cell_type": "markdown",
   "id": "c1378c1f-0fcc-4f06-8c7e-6dda3f0bae1e",
   "metadata": {},
   "source": [
    "Run all the cells and make changes to only the allowed cells. Do not change the code in the restricted region"
   ]
  },
  {
   "cell_type": "code",
   "execution_count": 1,
   "id": "ef0d9475-fd78-4413-a5d6-b513190263aa",
   "metadata": {},
   "outputs": [],
   "source": [
    "from tensorflow.keras.preprocessing.image import ImageDataGenerator\n",
    "import os\n",
    "import shutil\n"
   ]
  },
  {
   "cell_type": "code",
   "execution_count": 2,
   "id": "503cd2d1",
   "metadata": {},
   "outputs": [],
   "source": [
    "dataset_path = \"D:\\\\CODE\\\\Opencode\\\\Pestering-Data\\\\DS\"\n",
    "\n",
    "train_dir = os.path.join(dataset_path, 'train_set')\n",
    "test_dir = os.path.join(dataset_path, 'test_set')\n",
    "\n",
    "os.makedirs(train_dir, exist_ok=True)\n",
    "os.makedirs(test_dir, exist_ok=True)\n",
    "# Change this code"
   ]
  },
  {
   "cell_type": "code",
   "execution_count": 3,
   "id": "22864f87",
   "metadata": {},
   "outputs": [
    {
     "name": "stdout",
     "output_type": "stream",
     "text": [
      "Dataset Restructed\n"
     ]
    }
   ],
   "source": [
    "data_path = 'D:\\\\CODE\\\\Opencode\\\\Pestering-Data\\\\dataset'\n",
    "classes = ['Cashew', 'Cassava', 'Maize', 'Tomato']\n",
    "\n",
    "\n",
    "def dataset_struct():\n",
    "    for crop in classes:\n",
    "        class_dir = os.path.join(data_path, crop) #Class divison\n",
    "        for split in ['train_set', 'test_set']:\n",
    "            split_path = os.path.join(class_dir, split) # path to class/split\n",
    "            if not os.path.exists(split_path):\n",
    "                print(f\"{split_path} not found, aborting dataset\")\n",
    "                return\n",
    "\n",
    "            for sub_class in os.listdir(split_path):\n",
    "                sub_class_path = os.path.join(split_path, sub_class)\n",
    "                if os.path.isdir(sub_class_path):\n",
    "                    # name of folder in restructured dataset\n",
    "                    class_name = f\"{sub_class.replace(' ', '_')}_{crop.lower()}\"\n",
    "                    new_dir = train_dir if 'train' in split else test_dir\n",
    "                    new_path = os.path.join(new_dir, class_name)\n",
    "                    if os.path.exists(new_path):\n",
    "                        print(f\"{new_path} exists\")\n",
    "                        continue\n",
    "                    # Move the directory\n",
    "                    shutil.move(sub_class_path, new_path)\n",
    "\n",
    "    print(\"Dataset Restructed\")\n",
    "\n",
    "dataset_struct()\n"
   ]
  },
  {
   "cell_type": "code",
   "execution_count": 4,
   "id": "6de7f29e-13df-4dc8-a474-be3a2213a43f",
   "metadata": {},
   "outputs": [
    {
     "name": "stdout",
     "output_type": "stream",
     "text": [
      "Found 0 images belonging to 0 classes.\n",
      "Found 0 images belonging to 0 classes.\n",
      "Classes found in the dataset: {}\n"
     ]
    }
   ],
   "source": [
    "train_data = ImageDataGenerator(rescale=1.0/255) \n",
    "test_data = ImageDataGenerator(rescale=1.0/255)\n",
    "\n",
    "\n",
    "train_generator = train_data.flow_from_directory(\n",
    "    train_dir,\n",
    "    target_size=(224,224),\n",
    "    batch_size=32,\n",
    "    class_mode='categorical'    \n",
    ")\n",
    "\n",
    "test_generator = test_data.flow_from_directory(\n",
    "    test_dir,\n",
    "    target_size=(224, 224),\n",
    "    batch_size=32,\n",
    "    class_mode='categorical'\n",
    ")\n",
    "\n",
    "print(\"Classes found in the dataset:\", train_generator.class_indices)\n",
    "\n",
    "# Do not change this code"
   ]
  },
  {
   "cell_type": "code",
   "execution_count": 5,
   "id": "3cce3d79-61f4-4b18-a781-3da2e7d88556",
   "metadata": {},
   "outputs": [
    {
     "data": {
      "text/plain": [
       "<Figure size 2000x1500 with 0 Axes>"
      ]
     },
     "metadata": {},
     "output_type": "display_data"
    }
   ],
   "source": [
    "# Write the code to display one image of all the 22 classes.\n",
    "import matplotlib.pyplot as plt\n",
    "import matplotlib.image as mpimg\n",
    "import os\n",
    "\n",
    "classes = train_generator.class_indices.keys()\n",
    "sample_images = []\n",
    "\n",
    "# Collect one sample image from each class\n",
    "for cls in classes:\n",
    "    class_dir = os.path.join(train_dir, cls)\n",
    "    sample_image_path = os.path.join(class_dir, os.listdir(class_dir)[0])\n",
    "    sample_images.append((cls, sample_image_path))\n",
    "\n",
    "# Plot each class's image\n",
    "plt.figure(figsize=(20, 15))\n",
    "for idx, (cls, img_path) in enumerate(sample_images):\n",
    "    img = mpimg.imread(img_path)\n",
    "    plt.subplot(4, 6, idx + 1)  # 22 classes; 4 rows x 6 columns layout\n",
    "    plt.imshow(img)\n",
    "    plt.title(cls)\n",
    "    plt.axis('off')\n",
    "\n",
    "plt.tight_layout()\n",
    "plt.show()\n",
    "\n"
   ]
  },
  {
   "cell_type": "markdown",
   "id": "5f9f2819-2a35-419f-8a37-466550794939",
   "metadata": {},
   "source": [
    "Run all the cells and the output must be clearly visible for all the cells."
   ]
  },
  {
   "cell_type": "code",
   "execution_count": null,
   "id": "013d837d-44a1-44f8-89d8-2dd8c728d5ed",
   "metadata": {},
   "outputs": [],
   "source": []
  }
 ],
 "metadata": {
  "kernelspec": {
   "display_name": "tf-gpu",
   "language": "python",
   "name": "python3"
  },
  "language_info": {
   "codemirror_mode": {
    "name": "ipython",
    "version": 3
   },
   "file_extension": ".py",
   "mimetype": "text/x-python",
   "name": "python",
   "nbconvert_exporter": "python",
   "pygments_lexer": "ipython3",
   "version": "3.9.18"
  }
 },
 "nbformat": 4,
 "nbformat_minor": 5
}
